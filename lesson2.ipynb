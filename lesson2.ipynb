{
 "cells": [
  {
   "cell_type": "code",
   "execution_count": 18,
   "metadata": {
    "collapsed": true,
    "pycharm": {
     "name": "#%%\n"
    }
   },
   "outputs": [
    {
     "name": "stdout",
     "output_type": "stream",
     "text": [
      "Задание 1\n",
      "Создание и заполнение списка:\n",
      "['one', 1]\n",
      "Проверка типов элементов списка через for\n",
      "<class 'str'>\n",
      "<class 'int'>\n",
      "Проверка типов элементов списка через map\n",
      "<class 'str'>,<class 'int'>\n",
      "Проверка типов элементов списка через map и lambda\n",
      "<class 'str'>,<class 'int'>\n"
     ]
    }
   ],
   "source": [
    "print(\"Задание 1\")\n",
    "print(\"Создание и заполнение списка:\")\n",
    "list = []\n",
    "list.append(\"one\")\n",
    "list.append(1)\n",
    "print(list)\n",
    "print(\"Проверка типов элементов списка через for\")\n",
    "for i in list:\n",
    "    print(str(type(i)))\n",
    "print(\"Проверка типов элементов списка через map\")\n",
    "print(','.join(map(str,map(type,list))) )\n",
    "print(\"Проверка типов элементов списка через map и lambda\")\n",
    "\n",
    "\n",
    "print(','.join(map(lambda x: str(type(x)),list)))"
   ]
  },
  {
   "cell_type": "code",
   "execution_count": 85,
   "outputs": [
    {
     "name": "stdout",
     "output_type": "stream",
     "text": [
      "Задание 2\n",
      "Список: ['1', 'one', 'щту', '3', '4']\n",
      "Список после обмена элементами: ['one', '1', '3', 'щту', '4']\n"
     ]
    }
   ],
   "source": [
    "print(\"Задание 2\")\n",
    "n = int(input('Введите кол-во элементов списка'))\n",
    "list2 = []\n",
    "for i in range(n):\n",
    "    element = input('Введите элемент списка: ')\n",
    "    list2.append(element)\n",
    "print(f\"Список: {list2}\")\n",
    "list_temp = list2.copy()\n",
    "for i in range(n//2):\n",
    "    list_temp[2*i],list_temp[2*i+1] = list_temp[2*i+1],list_temp[2*i]\n",
    "print(f\"Список после обмена элементами: {list_temp}\")"
   ],
   "metadata": {
    "collapsed": false,
    "pycharm": {
     "name": "#%%\n"
    }
   }
  },
  {
   "cell_type": "code",
   "execution_count": 87,
   "outputs": [
    {
     "name": "stdout",
     "output_type": "stream",
     "text": [
      "Задание 3\n",
      "Решение череp list:\n",
      "3-й месяц - это весна\n",
      "Решение череp dict:\n",
      "3-й месяц - это весна\n"
     ]
    }
   ],
   "source": [
    "print('Задание 3')\n",
    "month = int(input(\"Введите номер месяца:\"))\n",
    "# month = 3\n",
    "count = 0\n",
    "while month > 12 or month < 1:\n",
    "    month = int(input(\"Введите номер месяца (от 1 до 12):\"))\n",
    "\n",
    "print(\"Решение череp list:\")\n",
    "\n",
    "list3 = ['зима', 'весна','лето','осень']\n",
    "num_season = (month % 12)//3\n",
    "print(f\"{month}-й месяц - это {list3[num_season]}\")\n",
    "\n",
    "print(\"Решение череp dict:\")\n",
    "\n",
    "dictionary = {\"зима\": [12,1,2], \"весна\": [3,4,5], \"лето\": [6,7,8], \"осень\": [9,10,11]}\n",
    "for key in dictionary.keys():\n",
    "    if dictionary.get(key).__contains__(month):\n",
    "        print(f\"{month}-й месяц - это {key}\")\n"
   ],
   "metadata": {
    "collapsed": false,
    "pycharm": {
     "name": "#%%\n"
    }
   }
  },
  {
   "cell_type": "code",
   "execution_count": 55,
   "outputs": [
    {
     "name": "stdout",
     "output_type": "stream",
     "text": [
      "Задание 4\n",
      "Test string with lonnnnnnnngggggg words! 01234567890123\n",
      "1. Test\n",
      "2. string\n",
      "3. with\n",
      "4. lonnnnnnnn\n",
      "5. words!\n",
      "6. 0123456789\n"
     ]
    }
   ],
   "source": [
    "print(\"Задание 4\")\n",
    "string = input(\"Введите строку:\")\n",
    "# string = \"Test string with lonnnnnnnngggggg words! 01234567890123\"\n",
    "print(string)\n",
    "count = 1\n",
    "words = string.split(\" \")\n",
    "for word in words:\n",
    "    print(f\"{count}. {word[0: 10]}\")\n",
    "    count = count + 1"
   ],
   "metadata": {
    "collapsed": false,
    "pycharm": {
     "name": "#%%\n"
    }
   }
  },
  {
   "cell_type": "code",
   "execution_count": 77,
   "outputs": [
    {
     "name": "stdout",
     "output_type": "stream",
     "text": [
      "Задание 5\n",
      "[9, 5, 5, 5, 3, 3, 3, 2, 1]\n"
     ]
    }
   ],
   "source": [
    "print(\"Задание 5\")\n",
    "rating = [ 9, 5, 5, 3, 3, 3, 2, 1]\n",
    "# num = 0\n",
    "num = int(input(\"Введите новое значение рейтинга: \"))\n",
    "i = 0\n",
    "while (i < len(rating)) and (num < rating[i]):\n",
    "    i = i + 1\n",
    "rating.insert(i, num) if (i < len(rating)) else rating.append(num)\n",
    "print(rating)"
   ],
   "metadata": {
    "collapsed": false,
    "pycharm": {
     "name": "#%%\n"
    }
   }
  },
  {
   "cell_type": "code",
   "execution_count": null,
   "outputs": [],
   "source": [
    "print(\"Задание 6\")\n"
   ],
   "metadata": {
    "collapsed": false,
    "pycharm": {
     "name": "#%%\n"
    }
   }
  },
  {
   "cell_type": "code",
   "execution_count": null,
   "outputs": [],
   "source": [
    "pd.rea"
   ],
   "metadata": {
    "collapsed": false,
    "pycharm": {
     "name": "#%%\n"
    }
   }
  }
 ],
 "metadata": {
  "kernelspec": {
   "display_name": "Python 3",
   "language": "python",
   "name": "python3"
  },
  "language_info": {
   "codemirror_mode": {
    "name": "ipython",
    "version": 2
   },
   "file_extension": ".py",
   "mimetype": "text/x-python",
   "name": "python",
   "nbconvert_exporter": "python",
   "pygments_lexer": "ipython2",
   "version": "2.7.6"
  }
 },
 "nbformat": 4,
 "nbformat_minor": 0
}