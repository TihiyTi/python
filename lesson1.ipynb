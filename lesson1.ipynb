{
 "cells": [
  {
   "cell_type": "markdown",
   "metadata": {
    "collapsed": true,
    "pycharm": {
     "name": "#%% md\n"
    }
   },
   "source": [
    "# Задание 1\n",
    "Поработайте с переменными, создайте несколько, выведите на экран. Запросите у пользователя некоторые числа и строки и сохраните в переменные, затем выведите на экран."
   ]
  },
  {
   "cell_type": "code",
   "execution_count": 14,
   "outputs": [
    {
     "name": "stdout",
     "output_type": "stream",
     "text": [
      "Работа с переменными:\n",
      "1\n",
      "text 1\n"
     ]
    }
   ],
   "source": [
    "print(\"Работа с переменными:\")\n",
    "a = 1\n",
    "print(a)\n",
    "b = a\n",
    "a = 'text'\n",
    "print(a + ' ' + str(b))"
   ],
   "metadata": {
    "collapsed": false,
    "pycharm": {
     "name": "#%%\n"
    }
   }
  },
  {
   "cell_type": "code",
   "execution_count": 16,
   "outputs": [
    {
     "name": "stdout",
     "output_type": "stream",
     "text": [
      "Запрос числа и сохранение в переменную\n",
      "1\n",
      "Запрос строки и сохранение:\n",
      "Alex\n",
      "Alex ввел число1\n"
     ]
    }
   ],
   "source": [
    "print(\"Запрос числа и сохранение в переменную\")\n",
    "a = int(input(\"Введите целое число:\"))\n",
    "print(a)\n",
    "\n",
    "print(\"Запрос строки и сохранение:\")\n",
    "name =input(\"Введите имя:\")\n",
    "print(name)\n",
    "\n",
    "print(name + \" ввел число: \" + str(a))"
   ],
   "metadata": {
    "collapsed": false,
    "pycharm": {
     "name": "#%%\n"
    }
   }
  },
  {
   "cell_type": "markdown",
   "source": [
    "# Задание 2\n",
    "Пользователь вводит время в секундах. Переведите время в часы, минуты, секунды и выведите в формате чч:мм:сс. Используйте форматирование строк."
   ],
   "metadata": {
    "collapsed": false,
    "pycharm": {
     "name": "#%% md\n"
    }
   }
  },
  {
   "cell_type": "code",
   "execution_count": 66,
   "outputs": [
    {
     "name": "stdout",
     "output_type": "stream",
     "text": [
      "Первый способ форматирования:\n",
      "1:1:3\n",
      "Второй способ форматирования:\n",
      " 1: 1: 3\n",
      "Третий способ форматирования:\n",
      "1:1:3\n"
     ]
    }
   ],
   "source": [
    "src_seconds = int(input(\"Введите время в секундах: \"))\n",
    "#src_seconds = 3663\n",
    "hours = src_seconds//3600\n",
    "minutes = src_seconds//60 - hours*60\n",
    "seconds = src_seconds%60\n",
    "print(\"Первый способ форматирования:\")\n",
    "print(\"%s\" % hours + \":%s\" % minutes + \":%s\" % seconds)\n",
    "print(\"Второй способ форматирования:\")\n",
    "print('{:>2}:{:>2}:{:>2}'.format(hours, minutes, seconds))\n",
    "print(\"Третий способ форматирования:\")\n",
    "\n",
    "lst = [hours, minutes, seconds]\n",
    "print(f\"{':'.join(map(str,lst))}\")"
   ],
   "metadata": {
    "collapsed": false,
    "pycharm": {
     "name": "#%%\n"
    }
   }
  },
  {
   "cell_type": "code",
   "source": [
    "\"\"\"Преобразование времени с использованием модуля time\"\"\"\n",
    "import time\n",
    "time.strftime(\"%H:%M:%S\", time.gmtime(src_seconds))"
   ],
   "metadata": {
    "collapsed": false,
    "pycharm": {
     "name": "#%%\n"
    }
   },
   "execution_count": null,
   "outputs": []
  },
  {
   "cell_type": "markdown",
   "source": [
    "# Задание 3\n",
    "Узнайте у пользователя число n. Найдите сумму чисел n + nn + nnn. Например, пользователь ввёл число 3. Считаем 3 + 33 + 333 = 369"
   ],
   "metadata": {
    "collapsed": false
   }
  },
  {
   "cell_type": "code",
   "execution_count": 97,
   "outputs": [
    {
     "name": "stdout",
     "output_type": "stream",
     "text": [
      "n + nn + nnn = 246\n"
     ]
    }
   ],
   "source": [
    "num = int(input(\"Введите число n = \"))\n",
    "# num = 12\n",
    "n = str(num)\n",
    "nn = n + n\n",
    "nnn = nn + n\n",
    "result = sum(map(int,[n,nn,nnn]))\n",
    "print(\"n + nn + nnn = %d\"%result)"
   ],
   "metadata": {
    "collapsed": false,
    "pycharm": {
     "name": "#%%\n"
    }
   }
  },
  {
   "cell_type": "markdown",
   "source": [
    "# Задание 4\n",
    "Пользователь вводит целое положительное число. Найдите самую большую цифру в числе. Для решения используйте цикл while и арифметические операции."
   ],
   "metadata": {
    "collapsed": false,
    "pycharm": {
     "name": "#%% md\n"
    }
   }
  },
  {
   "cell_type": "code",
   "execution_count": 99,
   "outputs": [
    {
     "name": "stdout",
     "output_type": "stream",
     "text": [
      "Введено число 12321\n",
      "Самая большая цифра 3 в числе 12321\n"
     ]
    }
   ],
   "source": [
    "num = 0\n",
    "while num < 1:\n",
    "    num = int(input(\"Введите целое положительное число:\"))\n",
    "    print(\"Введено число %d\"%num)\n",
    "    str_num = str(num)\n",
    "    max_value = int(str_num[0])\n",
    "    count = 0\n",
    "    while count < len(str_num):\n",
    "        if max_value < int(str_num[count]):\n",
    "            max_value = int(str_num[count])\n",
    "        count = count + 1\n",
    "print(\"Самая большая цифра {} в числе {}\".format(max_value, num))"
   ],
   "metadata": {
    "collapsed": false,
    "pycharm": {
     "name": "#%%\n"
    }
   }
  },
  {
   "cell_type": "markdown",
   "source": [
    "# Задание 5\n",
    "Запросите у пользователя значения выручки и издержек фирмы. Определите, с каким финансовым результатом работает фирма. Например, прибыль — выручка больше издержек, или убыток — издержки больше выручки. Выведите соответствующее сообщение."
   ],
   "metadata": {
    "collapsed": false,
    "pycharm": {
     "name": "#%% md\n"
    }
   }
  },
  {
   "cell_type": "code",
   "execution_count": 102,
   "outputs": [
    {
     "name": "stdout",
     "output_type": "stream",
     "text": [
      "Выручка больше издержек. Фирма работает с прибылью.\n"
     ]
    }
   ],
   "source": [
    "revenue = int(input(\"Укажите сумму выручки фирмы: \"))\n",
    "costs = int(input(\"Укажите сумму издержек фирмы: \"))\n",
    "isProfit = False\n",
    "if revenue>costs:\n",
    "    print(\"Выручка больше издержек. Фирма работает с прибылью.\")\n",
    "    isProfit = True\n",
    "elif revenue<costs:\n",
    "    print(\"Издержки больше выручки. Фирма работает в убыток.\")\n",
    "else:\n",
    "    print(\"Выручка равна издержкам.\")\n"
   ],
   "metadata": {
    "collapsed": false,
    "pycharm": {
     "name": "#%%\n"
    }
   }
  },
  {
   "cell_type": "markdown",
   "source": [
    "# Задание 6\n",
    "Если фирма отработала с прибылью, вычислите рентабельность выручки. Это отношение прибыли к выручке. Далее запросите численность сотрудников фирмы и определите прибыль фирмы в расчёте на одного сотрудника."
   ],
   "metadata": {
    "collapsed": false,
    "pycharm": {
     "name": "#%% md\n"
    }
   }
  },
  {
   "cell_type": "code",
   "execution_count": 106,
   "outputs": [
    {
     "name": "stdout",
     "output_type": "stream",
     "text": [
      "Рентабельность фирмы 88.0%, прибыль 88\n",
      "0.88\n",
      "Прибыль в расчете на одного сотрудника составляет: 8\n"
     ]
    }
   ],
   "source": [
    "rentability = 0\n",
    "if isProfit:\n",
    "    profit = revenue - costs\n",
    "    rentability = profit / revenue\n",
    "    print(\"Рентабельность фирмы {}%, прибыль {}\".format(rentability*100, profit))\n",
    "    staff = int(input(\"Введите кол-во сотрудников:\"))\n",
    "    profit_per_staff = profit / staff\n",
    "    print(\"Прибыль в расчете на одного сотрудника составляет: %d\" % profit_per_staff)\n"
   ],
   "metadata": {
    "collapsed": false,
    "pycharm": {
     "name": "#%%\n"
    }
   }
  },
  {
   "cell_type": "markdown",
   "source": [
    "# Задание 7\n",
    "Спортсмен занимается ежедневными пробежками. В первый день его результат составил a километров. Каждый день спортсмен увеличивал результат на 10% относительно предыдущего. Требуется определить номер дня, на который результат спортсмена составит не менее b километров. Программа должна принимать значения параметров a и b и выводить одно натуральное число — номер дня"
   ],
   "metadata": {
    "collapsed": false,
    "pycharm": {
     "name": "#%% md\n"
    }
   }
  },
  {
   "cell_type": "code",
   "execution_count": 116,
   "outputs": [
    {
     "name": "stdout",
     "output_type": "stream",
     "text": [
      "1-й день: 10.0\n",
      "2-й день: 11.0\n",
      "3-й день: 12.100000000000001\n",
      "4-й день: 13.310000000000002\n",
      "5-й день: 14.641000000000004\n",
      "На 5-й день спортсмен достиг результата - не менее 14.0\n"
     ]
    }
   ],
   "source": [
    "frst = 0\n",
    "max_value = 0\n",
    "while not ((frst > 0) and (max_value > 0)):\n",
    "    frst = float(input(\"Введите расстояние первой пробежки:\"))\n",
    "    max_value = float(input(\"Введите пороговое значение:\"))\n",
    "day = 1\n",
    "result = frst\n",
    "print(\"{}-й день: {}\".format(day,result))\n",
    "while result < max_value:\n",
    "    day = day + 1\n",
    "    result = result*1.1\n",
    "    print(\"{}-й день: {}\".format(day,result))\n",
    "print(\"На {}-й день спортсмен достиг результата - не менее {} км\".format(day, max_value))\n"
   ],
   "metadata": {
    "collapsed": false,
    "pycharm": {
     "name": "#%%\n"
    }
   }
  },
  {
   "cell_type": "code",
   "execution_count": null,
   "outputs": [],
   "source": [],
   "metadata": {
    "collapsed": false,
    "pycharm": {
     "name": "#%%\n"
    }
   }
  }
 ],
 "metadata": {
  "kernelspec": {
   "display_name": "Python 3",
   "language": "python",
   "name": "python3"
  },
  "language_info": {
   "codemirror_mode": {
    "name": "ipython",
    "version": 2
   },
   "file_extension": ".py",
   "mimetype": "text/x-python",
   "name": "python",
   "nbconvert_exporter": "python",
   "pygments_lexer": "ipython2",
   "version": "2.7.6"
  }
 },
 "nbformat": 4,
 "nbformat_minor": 0
}