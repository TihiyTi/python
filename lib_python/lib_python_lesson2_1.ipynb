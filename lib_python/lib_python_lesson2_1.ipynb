{
 "cells": [
  {
   "cell_type": "markdown",
   "source": [
    "# Тема “Вычисления с помощью Numpy”\n",
    "## Задание1"
   ],
   "metadata": {
    "collapsed": false
   }
  },
  {
   "cell_type": "code",
   "execution_count": 44,
   "outputs": [
    {
     "name": "stdout",
     "output_type": "stream",
     "text": [
      "Исходный массив a = \n",
      " [[ 1  6]\n",
      " [ 2  8]\n",
      " [ 3 11]\n",
      " [ 3 10]\n",
      " [ 1  7]]\n",
      "Среднее значение по каждому столбцу(признаку) mean_a = [2.  8.4]\n"
     ]
    }
   ],
   "source": [
    "import numpy as np\n",
    "a = np.array([[1,6],[2,8],[3,11],[3,10],[1,7]])\n",
    "print(\"Исходный массив a = \\n {}\".format(a))\n",
    "mean_a = np.mean(a, axis=0)\n",
    "print(\"Среднее значение по каждому столбцу(признаку) mean_a = {}\".format(mean_a))"
   ],
   "metadata": {
    "collapsed": false,
    "pycharm": {
     "name": "#%%\n"
    }
   }
  },
  {
   "cell_type": "markdown",
   "source": [
    "## Задание 2"
   ],
   "metadata": {
    "collapsed": false
   }
  },
  {
   "cell_type": "code",
   "execution_count": 49,
   "outputs": [
    {
     "name": "stdout",
     "output_type": "stream",
     "text": [
      "a_centered = \n",
      " [[-1.  -2.4]\n",
      " [ 0.  -0.4]\n",
      " [ 1.   2.6]\n",
      " [ 1.   1.6]\n",
      " [-1.  -1.4]]\n"
     ]
    }
   ],
   "source": [
    "a_centered = a - mean_a\n",
    "print(\"a_centered = \\n {}\".format(a_centered))"
   ],
   "metadata": {
    "collapsed": false,
    "pycharm": {
     "name": "#%%\n"
    }
   }
  },
  {
   "cell_type": "markdown",
   "source": [
    "## Задание 3"
   ],
   "metadata": {
    "collapsed": false
   }
  },
  {
   "cell_type": "code",
   "execution_count": 54,
   "outputs": [
    {
     "name": "stdout",
     "output_type": "stream",
     "text": [
      "a_centered_sp = 8.0\n"
     ]
    }
   ],
   "source": [
    "vA = a_centered[0:,0]\n",
    "vB = a_centered[0:,1]\n",
    "a_centered_sp = vA.dot(vB)\n",
    "print(\"a_centered_sp = {}\".format(a_centered_sp))\n",
    "num = a.shape[0] - 1 #количество измерений минус 1\n",
    "cov1 = a_centered_sp/num"
   ],
   "metadata": {
    "collapsed": false,
    "pycharm": {
     "name": "#%%\n"
    }
   }
  },
  {
   "cell_type": "markdown",
   "source": [
    "## Задание 4"
   ],
   "metadata": {
    "collapsed": false
   }
  },
  {
   "cell_type": "code",
   "execution_count": 60,
   "outputs": [
    {
     "name": "stdout",
     "output_type": "stream",
     "text": [
      "Ковариация полученная первым способом = 2.0\n",
      " Ковариация полученная первым способом = 2.0\n",
      " \n"
     ]
    }
   ],
   "source": [
    "cov_matrix = np.cov(a.transpose())\n",
    "cov2 = cov_matrix[0,1]\n",
    "print(\"Ковариация полученная первым способом = {}\\n \"\n",
    "      \"Ковариация полученная вторым способом = {}\\n \"\n",
    "      .format(cov1,cov2))"
   ],
   "metadata": {
    "collapsed": false,
    "pycharm": {
     "name": "#%%\n"
    }
   }
  }
 ],
 "metadata": {
  "kernelspec": {
   "display_name": "Python 3",
   "language": "python",
   "name": "python3"
  },
  "language_info": {
   "codemirror_mode": {
    "name": "ipython",
    "version": 2
   },
   "file_extension": ".py",
   "mimetype": "text/x-python",
   "name": "python",
   "nbconvert_exporter": "python",
   "pygments_lexer": "ipython2",
   "version": "2.7.6"
  }
 },
 "nbformat": 4,
 "nbformat_minor": 0
}